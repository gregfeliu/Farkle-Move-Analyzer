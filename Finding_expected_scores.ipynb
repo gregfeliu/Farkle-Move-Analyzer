{
 "cells": [
  {
   "cell_type": "markdown",
   "metadata": {},
   "source": [
    "import pandas as pd\n",
    "# ^^^ pyforest auto-imports - don't write above this line\n",
    "The **goal of this notebook** is to find the probabilities of scoring and the maximum score you can expect to get, on average, for any given dice roll."
   ]
  },
  {
   "cell_type": "markdown",
   "metadata": {},
   "source": [
    "# Imports "
   ]
  },
  {
   "cell_type": "code",
   "execution_count": 1,
   "metadata": {
    "ExecuteTime": {
     "end_time": "2021-12-25T20:53:12.153040Z",
     "start_time": "2021-12-25T20:53:10.055364Z"
    }
   },
   "outputs": [
    {
     "name": "stderr",
     "output_type": "stream",
     "text": [
      "In /Users/gregfeliu/opt/anaconda3/envs/learn-env/lib/python3.6/site-packages/matplotlib/mpl-data/stylelib/_classic_test.mplstyle: \n",
      "The text.latex.preview rcparam was deprecated in Matplotlib 3.3 and will be removed two minor releases later.\n",
      "In /Users/gregfeliu/opt/anaconda3/envs/learn-env/lib/python3.6/site-packages/matplotlib/mpl-data/stylelib/_classic_test.mplstyle: \n",
      "The mathtext.fallback_to_cm rcparam was deprecated in Matplotlib 3.3 and will be removed two minor releases later.\n",
      "In /Users/gregfeliu/opt/anaconda3/envs/learn-env/lib/python3.6/site-packages/matplotlib/mpl-data/stylelib/_classic_test.mplstyle: Support for setting the 'mathtext.fallback_to_cm' rcParam is deprecated since 3.3 and will be removed two minor releases later; use 'mathtext.fallback : 'cm' instead.\n",
      "In /Users/gregfeliu/opt/anaconda3/envs/learn-env/lib/python3.6/site-packages/matplotlib/mpl-data/stylelib/_classic_test.mplstyle: \n",
      "The validate_bool_maybe_none function was deprecated in Matplotlib 3.3 and will be removed two minor releases later.\n",
      "In /Users/gregfeliu/opt/anaconda3/envs/learn-env/lib/python3.6/site-packages/matplotlib/mpl-data/stylelib/_classic_test.mplstyle: \n",
      "The savefig.jpeg_quality rcparam was deprecated in Matplotlib 3.3 and will be removed two minor releases later.\n",
      "In /Users/gregfeliu/opt/anaconda3/envs/learn-env/lib/python3.6/site-packages/matplotlib/mpl-data/stylelib/_classic_test.mplstyle: \n",
      "The keymap.all_axes rcparam was deprecated in Matplotlib 3.3 and will be removed two minor releases later.\n",
      "In /Users/gregfeliu/opt/anaconda3/envs/learn-env/lib/python3.6/site-packages/matplotlib/mpl-data/stylelib/_classic_test.mplstyle: \n",
      "The animation.avconv_path rcparam was deprecated in Matplotlib 3.3 and will be removed two minor releases later.\n",
      "In /Users/gregfeliu/opt/anaconda3/envs/learn-env/lib/python3.6/site-packages/matplotlib/mpl-data/stylelib/_classic_test.mplstyle: \n",
      "The animation.avconv_args rcparam was deprecated in Matplotlib 3.3 and will be removed two minor releases later.\n",
      "/Users/gregfeliu/opt/anaconda3/envs/learn-env/lib/python3.6/site-packages/statsmodels/tools/_testing.py:19: FutureWarning: pandas.util.testing is deprecated. Use the functions in the public API at pandas.testing instead.\n",
      "  import pandas.util.testing as tm\n"
     ]
    }
   ],
   "source": [
    "import numpy as np\n",
    "import matplotlib.pyplot as plt\n",
    "import seaborn as sns\n",
    "sns.set(style=\"whitegrid\")\n",
    "from fractions import Fraction\n",
    "from copy import copy\n",
    "import warnings\n",
    "warnings.filterwarnings(\"ignore\")\n",
    "from functions import *"
   ]
  },
  {
   "cell_type": "markdown",
   "metadata": {},
   "source": [
    "## Rules to Farkle"
   ]
  },
  {
   "cell_type": "markdown",
   "metadata": {
    "ExecuteTime": {
     "end_time": "2021-12-04T18:55:44.868244Z",
     "start_time": "2021-12-04T18:55:44.747003Z"
    }
   },
   "source": [
    "![Rules to Farkle](images/farkle_rules.png)"
   ]
  },
  {
   "cell_type": "markdown",
   "metadata": {},
   "source": [
    "- The rules I play with force the player to get 500 before they can start collecting points. We'll kind of ignore that and leave it to the player to decide on what they should do.\n",
    "- Also, your points for the round double if you get a 1 on the last die. We'll ignore that one for now...\n",
    "- I think 3 1's was a thousand for me, but we'll use these rules\n",
    "- NOTE: you can combine points with any of the combos: e.g.: you roll ('2', '2', '2', '2', '2', '5'). The max score for this role is 2050, not just 2000. "
   ]
  },
  {
   "cell_type": "markdown",
   "metadata": {},
   "source": [
    "- [another site with rules](https://www.dicegamedepot.com/farkle-rules/) -- has more variations of the game\n",
    "- [odds of farking calculator](http://farkle.games/farkle-odds/)\n",
    "- [dice roller](http://www.playonlinedicegames.com/farkle) for playing online "
   ]
  },
  {
   "cell_type": "markdown",
   "metadata": {},
   "source": [
    "## Data Storage"
   ]
  },
  {
   "cell_type": "code",
   "execution_count": 2,
   "metadata": {
    "ExecuteTime": {
     "end_time": "2021-12-25T20:53:12.161016Z",
     "start_time": "2021-12-25T20:53:12.156051Z"
    }
   },
   "outputs": [],
   "source": [
    "all_rolls_max_score = {\"1\": 0, \"2\": 0, \"3\": 0, \"4\": 0, \"5\": 0, \"6\": 0}\n",
    "all_rolls_means = {\"1\": 0, \"2\": 0, \"3\": 0, \"4\": 0, \"5\": 0, \"6\": 0}\n",
    "all_rolls_median = {\"1\": 0, \"2\": 0, \"3\": 0, \"4\": 0, \"5\": 0, \"6\": 0}\n",
    "odds_of_not_farking = {\"1\": 0, \"2\":  0, \"3\": 0, \"4\": 0, \"5\": 0, \"6\": 0}"
   ]
  },
  {
   "cell_type": "markdown",
   "metadata": {},
   "source": [
    "# Find expected score for each possible role "
   ]
  },
  {
   "cell_type": "code",
   "execution_count": 3,
   "metadata": {
    "ExecuteTime": {
     "end_time": "2021-12-25T20:53:12.166599Z",
     "start_time": "2021-12-25T20:53:12.163507Z"
    }
   },
   "outputs": [],
   "source": [
    "all_combos_for_1_dice_w_scores, avg_score_1_dice = find_mean_score_of_x_dice(1)\n",
    "all_rolls_means['1'] = avg_score_1_dice\n",
    "all_rolls_max_score['1'] = find_max_score(all_combos_for_1_dice_w_scores)"
   ]
  },
  {
   "cell_type": "code",
   "execution_count": 4,
   "metadata": {
    "ExecuteTime": {
     "end_time": "2021-12-25T20:53:12.171497Z",
     "start_time": "2021-12-25T20:53:12.168341Z"
    }
   },
   "outputs": [],
   "source": [
    "all_combos_for_2_dice_w_scores, avg_score_2_dice = find_mean_score_of_x_dice(2)\n",
    "all_rolls_means['2'] = avg_score_2_dice\n",
    "all_rolls_max_score['2'] = find_max_score(all_combos_for_2_dice_w_scores)"
   ]
  },
  {
   "cell_type": "code",
   "execution_count": 5,
   "metadata": {
    "ExecuteTime": {
     "end_time": "2021-12-25T20:53:12.177562Z",
     "start_time": "2021-12-25T20:53:12.173688Z"
    }
   },
   "outputs": [],
   "source": [
    "all_combos_for_3_dice_w_scores, avg_score_3_dice = find_mean_score_of_x_dice(3)\n",
    "all_rolls_means['3'] = avg_score_3_dice\n",
    "all_rolls_max_score['3'] = find_max_score(all_combos_for_3_dice_w_scores)"
   ]
  },
  {
   "cell_type": "code",
   "execution_count": 6,
   "metadata": {
    "ExecuteTime": {
     "end_time": "2021-12-25T20:53:12.187422Z",
     "start_time": "2021-12-25T20:53:12.180426Z"
    }
   },
   "outputs": [],
   "source": [
    "all_combos_for_4_dice_w_scores, avg_score_4_dice = find_mean_score_of_x_dice(4)\n",
    "all_rolls_means['4'] = avg_score_4_dice\n",
    "all_rolls_max_score['4'] = find_max_score(all_combos_for_4_dice_w_scores)"
   ]
  },
  {
   "cell_type": "code",
   "execution_count": 7,
   "metadata": {
    "ExecuteTime": {
     "end_time": "2021-12-25T20:53:12.215147Z",
     "start_time": "2021-12-25T20:53:12.191117Z"
    }
   },
   "outputs": [],
   "source": [
    "all_combos_for_5_dice_w_scores, avg_score_5_dice = find_mean_score_of_x_dice(5)\n",
    "all_rolls_means['5'] = avg_score_5_dice\n",
    "all_rolls_max_score['5'] = find_max_score(all_combos_for_5_dice_w_scores)"
   ]
  },
  {
   "cell_type": "code",
   "execution_count": 8,
   "metadata": {
    "ExecuteTime": {
     "end_time": "2021-12-25T20:53:12.431477Z",
     "start_time": "2021-12-25T20:53:12.216896Z"
    }
   },
   "outputs": [],
   "source": [
    "# not sure that I'm getting the 6 score possiblities...\n",
    "all_combos_for_6_dice_w_scores, avg_score_6_dice = find_mean_score_of_x_dice(6)\n",
    "all_rolls_means['6'] = avg_score_6_dice\n",
    "all_rolls_max_score['6'] = find_max_score(all_combos_for_6_dice_w_scores)"
   ]
  },
  {
   "cell_type": "code",
   "execution_count": 9,
   "metadata": {
    "ExecuteTime": {
     "end_time": "2021-12-25T20:53:12.437114Z",
     "start_time": "2021-12-25T20:53:12.433706Z"
    }
   },
   "outputs": [
    {
     "name": "stdout",
     "output_type": "stream",
     "text": [
      "all_rolls_max_score = {'1': 100, '2': 200, '3': 600, '4': 1000, '5': 2000, '6': 3000}\n",
      "all_rolls_means = {'1': 25.0, '2': 50.0, '3': 83.6, '4': 132.7, '5': 202.3, '6': 384.7}\n"
     ]
    }
   ],
   "source": [
    "print(f\"all_rolls_max_score = {all_rolls_max_score}\")\n",
    "print(f\"all_rolls_means = {all_rolls_means}\")"
   ]
  },
  {
   "cell_type": "markdown",
   "metadata": {},
   "source": [
    "# Find expected score\n",
    "which is different from average score since expected score is more like the median"
   ]
  },
  {
   "cell_type": "code",
   "execution_count": 10,
   "metadata": {
    "ExecuteTime": {
     "end_time": "2021-12-25T20:53:12.455577Z",
     "start_time": "2021-12-25T20:53:12.439376Z"
    }
   },
   "outputs": [
    {
     "data": {
      "text/plain": [
       "{'1': 0.0, '2': 50.0, '3': 75.0, '4': 100.0, '5': 150.0, '6': 250.0}"
      ]
     },
     "execution_count": 10,
     "metadata": {},
     "output_type": "execute_result"
    }
   ],
   "source": [
    "med_score_1 = find_median_score(all_combos_for_1_dice_w_scores)\n",
    "all_rolls_median['1'] = med_score_1\n",
    "med_score_2 = find_median_score(all_combos_for_2_dice_w_scores)\n",
    "all_rolls_median['2'] = med_score_2\n",
    "med_score_3 = find_median_score(all_combos_for_3_dice_w_scores)\n",
    "all_rolls_median['3'] = med_score_3\n",
    "med_score_4 = find_median_score(all_combos_for_4_dice_w_scores)\n",
    "all_rolls_median['4'] = med_score_4\n",
    "med_score_5 = find_median_score(all_combos_for_5_dice_w_scores)\n",
    "all_rolls_median['5'] = med_score_5\n",
    "med_score_6 = find_median_score(all_combos_for_6_dice_w_scores)\n",
    "all_rolls_median['6'] = med_score_6\n",
    "all_rolls_median"
   ]
  },
  {
   "cell_type": "markdown",
   "metadata": {},
   "source": [
    "## Combining Median and Mean Scores"
   ]
  },
  {
   "cell_type": "code",
   "execution_count": 11,
   "metadata": {
    "ExecuteTime": {
     "end_time": "2021-12-25T20:53:12.477461Z",
     "start_time": "2021-12-25T20:53:12.457486Z"
    }
   },
   "outputs": [
    {
     "data": {
      "application/javascript": [
       "\n",
       "        if (window._pyforest_update_imports_cell) { window._pyforest_update_imports_cell('import pandas as pd'); }\n",
       "    "
      ],
      "text/plain": [
       "<IPython.core.display.Javascript object>"
      ]
     },
     "metadata": {},
     "output_type": "display_data"
    },
    {
     "data": {
      "text/html": [
       "<div>\n",
       "<style scoped>\n",
       "    .dataframe tbody tr th:only-of-type {\n",
       "        vertical-align: middle;\n",
       "    }\n",
       "\n",
       "    .dataframe tbody tr th {\n",
       "        vertical-align: top;\n",
       "    }\n",
       "\n",
       "    .dataframe thead th {\n",
       "        text-align: right;\n",
       "    }\n",
       "</style>\n",
       "<table border=\"1\" class=\"dataframe\">\n",
       "  <thead>\n",
       "    <tr style=\"text-align: right;\">\n",
       "      <th></th>\n",
       "      <th>1</th>\n",
       "      <th>2</th>\n",
       "      <th>3</th>\n",
       "      <th>4</th>\n",
       "      <th>5</th>\n",
       "      <th>6</th>\n",
       "    </tr>\n",
       "  </thead>\n",
       "  <tbody>\n",
       "    <tr>\n",
       "      <th>Mean</th>\n",
       "      <td>25.0</td>\n",
       "      <td>50.0</td>\n",
       "      <td>83.6</td>\n",
       "      <td>132.7</td>\n",
       "      <td>202.3</td>\n",
       "      <td>384.7</td>\n",
       "    </tr>\n",
       "    <tr>\n",
       "      <th>Median</th>\n",
       "      <td>0.0</td>\n",
       "      <td>50.0</td>\n",
       "      <td>75.0</td>\n",
       "      <td>100.0</td>\n",
       "      <td>150.0</td>\n",
       "      <td>250.0</td>\n",
       "    </tr>\n",
       "  </tbody>\n",
       "</table>\n",
       "</div>"
      ],
      "text/plain": [
       "           1     2     3      4      5      6\n",
       "Mean    25.0  50.0  83.6  132.7  202.3  384.7\n",
       "Median   0.0  50.0  75.0  100.0  150.0  250.0"
      ]
     },
     "execution_count": 11,
     "metadata": {},
     "output_type": "execute_result"
    }
   ],
   "source": [
    "med_mean_df = pd.DataFrame(data=[all_rolls_means, all_rolls_median], index=['Mean', 'Median'])\n",
    "med_mean_df"
   ]
  },
  {
   "cell_type": "code",
   "execution_count": 12,
   "metadata": {
    "ExecuteTime": {
     "end_time": "2021-12-25T20:53:12.668445Z",
     "start_time": "2021-12-25T20:53:12.479091Z"
    }
   },
   "outputs": [
    {
     "data": {
      "image/png": "[encoded data removed]",
      "text/plain": [
       "<Figure size 432x288 with 1 Axes>"
      ]
     },
     "metadata": {
      "needs_background": "light"
     },
     "output_type": "display_data"
    }
   ],
   "source": [
    "ax3 = sns.heatmap(med_mean_df, annot=True, robust=True, cmap='cividis', cbar=False, fmt='.3g')\n",
    "plt.xlabel('Number of Dice in Roll', fontsize=14)\n",
    "plt.ylabel('Score', fontsize=14)\n",
    "plt.title('Mean and Median Roll Scores for each Dice Number', fontsize=16, fontweight='bold')\n",
    "fig3 = ax3.get_figure()\n",
    "# fig3.savefig('images/Mean_median_roll_scores.png')"
   ]
  },
  {
   "cell_type": "markdown",
   "metadata": {},
   "source": [
    "# Apply expected score per role to each possibility \n",
    "count how many possiblities have a certain score, then get odds of getting that score"
   ]
  },
  {
   "cell_type": "code",
   "execution_count": 13,
   "metadata": {
    "ExecuteTime": {
     "end_time": "2021-12-25T20:53:12.688632Z",
     "start_time": "2021-12-25T20:53:12.670188Z"
    }
   },
   "outputs": [],
   "source": [
    "count_of_scores_1 = find_count_of_scores(all_combos_for_1_dice_w_scores)\n",
    "count_of_scores_2 = find_count_of_scores(all_combos_for_2_dice_w_scores)\n",
    "count_of_scores_3 = find_count_of_scores(all_combos_for_3_dice_w_scores)\n",
    "count_of_scores_4 = find_count_of_scores(all_combos_for_4_dice_w_scores)\n",
    "count_of_scores_5 = find_count_of_scores(all_combos_for_5_dice_w_scores)\n",
    "count_of_scores_6 = find_count_of_scores(all_combos_for_6_dice_w_scores)"
   ]
  },
  {
   "cell_type": "markdown",
   "metadata": {},
   "source": [
    "## Show user odds of scoring X score or above"
   ]
  },
  {
   "cell_type": "code",
   "execution_count": 14,
   "metadata": {
    "ExecuteTime": {
     "end_time": "2021-12-25T20:53:12.696028Z",
     "start_time": "2021-12-25T20:53:12.690752Z"
    }
   },
   "outputs": [],
   "source": [
    "scores_1 = find_odds_for_multiple_scores([50, 100, 250, 500, 1000, 1500], count_of_scores_1)\n",
    "scores_2 = find_odds_for_multiple_scores([50, 100, 250, 500, 1000, 1500], count_of_scores_2)\n",
    "scores_3 = find_odds_for_multiple_scores([50, 100, 250, 500, 1000, 1500], count_of_scores_3)\n",
    "scores_4 = find_odds_for_multiple_scores([50, 100, 250, 500, 1000, 1500], count_of_scores_4)\n",
    "scores_5 = find_odds_for_multiple_scores([50, 100, 250, 500, 1000, 1500], count_of_scores_5)\n",
    "scores_6 = find_odds_for_multiple_scores([50, 100, 250, 500, 1000, 1500], count_of_scores_6)"
   ]
  },
  {
   "cell_type": "code",
   "execution_count": 15,
   "metadata": {
    "ExecuteTime": {
     "end_time": "2021-12-25T20:53:12.706267Z",
     "start_time": "2021-12-25T20:53:12.698296Z"
    }
   },
   "outputs": [
    {
     "data": {
      "application/javascript": [
       "\n",
       "        if (window._pyforest_update_imports_cell) { window._pyforest_update_imports_cell('import pandas as pd'); }\n",
       "    "
      ],
      "text/plain": [
       "<IPython.core.display.Javascript object>"
      ]
     },
     "metadata": {},
     "output_type": "display_data"
    }
   ],
   "source": [
    "scores_df = pd.DataFrame(data=[scores_1, scores_2, scores_3, scores_4, scores_5, scores_6],\n",
    "                        columns=['50', '100', '250', '500', '1000', '1500'],\n",
    "                        index=['1', '2', '3', '4', '5', '6'])\n",
    "mask = scores_df.eq(0)"
   ]
  },
  {
   "cell_type": "code",
   "execution_count": 16,
   "metadata": {
    "ExecuteTime": {
     "end_time": "2021-12-25T20:53:12.902531Z",
     "start_time": "2021-12-25T20:53:12.707934Z"
    },
    "scrolled": false
   },
   "outputs": [
    {
     "data": {
      "image/png": "[encoded data removed]",
      "text/plain": [
       "<Figure size 432x288 with 1 Axes>"
      ]
     },
     "metadata": {
      "needs_background": "light"
     },
     "output_type": "display_data"
    }
   ],
   "source": [
    "ax = sns.heatmap(scores_df, mask=mask, annot=True, robust=True, cmap='cividis', cbar=False)\n",
    "plt.xlabel('Scores to Reach or Beat', fontsize=14)\n",
    "plt.ylabel('Number of Dice in Roll', fontsize=14)\n",
    "plt.title('Percent Chance of Getting or Beating a Score', fontsize=16, fontweight='bold')\n",
    "fig = ax.get_figure()\n",
    "# fig.savefig('images/Chance_of_beating_scores.png')"
   ]
  },
  {
   "cell_type": "markdown",
   "metadata": {},
   "source": [
    "## Visualizing Expected Score"
   ]
  },
  {
   "cell_type": "code",
   "execution_count": 17,
   "metadata": {
    "ExecuteTime": {
     "end_time": "2021-12-25T20:53:12.913328Z",
     "start_time": "2021-12-25T20:53:12.904671Z"
    }
   },
   "outputs": [],
   "source": [
    "# will need all scores appearing in a list as many times as they appear\n",
    "all_roll_values_1 = [all_combos_for_1_dice_w_scores[x][1] for x in range(len(all_combos_for_1_dice_w_scores))]\n",
    "all_roll_values_2 = [all_combos_for_2_dice_w_scores[x][1] for x in range(len(all_combos_for_2_dice_w_scores))]\n",
    "all_roll_values_3 = [all_combos_for_3_dice_w_scores[x][1] for x in range(len(all_combos_for_3_dice_w_scores))]\n",
    "all_roll_values_4 = [all_combos_for_4_dice_w_scores[x][1] for x in range(len(all_combos_for_4_dice_w_scores))]\n",
    "all_roll_values_5 = [all_combos_for_5_dice_w_scores[x][1] for x in range(len(all_combos_for_5_dice_w_scores))]\n",
    "all_roll_values_6 = [all_combos_for_6_dice_w_scores[x][1] for x in range(len(all_combos_for_6_dice_w_scores))]"
   ]
  },
  {
   "cell_type": "code",
   "execution_count": 18,
   "metadata": {
    "ExecuteTime": {
     "end_time": "2021-12-25T20:53:12.966046Z",
     "start_time": "2021-12-25T20:53:12.918520Z"
    }
   },
   "outputs": [
    {
     "data": {
      "application/javascript": [
       "\n",
       "        if (window._pyforest_update_imports_cell) { window._pyforest_update_imports_cell('import pandas as pd'); }\n",
       "    "
      ],
      "text/plain": [
       "<IPython.core.display.Javascript object>"
      ]
     },
     "metadata": {},
     "output_type": "display_data"
    },
    {
     "data": {
      "application/javascript": [
       "\n",
       "        if (window._pyforest_update_imports_cell) { window._pyforest_update_imports_cell('import pandas as pd'); }\n",
       "    "
      ],
      "text/plain": [
       "<IPython.core.display.Javascript object>"
      ]
     },
     "metadata": {},
     "output_type": "display_data"
    },
    {
     "data": {
      "application/javascript": [
       "\n",
       "        if (window._pyforest_update_imports_cell) { window._pyforest_update_imports_cell('import pandas as pd'); }\n",
       "    "
      ],
      "text/plain": [
       "<IPython.core.display.Javascript object>"
      ]
     },
     "metadata": {},
     "output_type": "display_data"
    },
    {
     "data": {
      "application/javascript": [
       "\n",
       "        if (window._pyforest_update_imports_cell) { window._pyforest_update_imports_cell('import pandas as pd'); }\n",
       "    "
      ],
      "text/plain": [
       "<IPython.core.display.Javascript object>"
      ]
     },
     "metadata": {},
     "output_type": "display_data"
    },
    {
     "data": {
      "application/javascript": [
       "\n",
       "        if (window._pyforest_update_imports_cell) { window._pyforest_update_imports_cell('import pandas as pd'); }\n",
       "    "
      ],
      "text/plain": [
       "<IPython.core.display.Javascript object>"
      ]
     },
     "metadata": {},
     "output_type": "display_data"
    },
    {
     "data": {
      "application/javascript": [
       "\n",
       "        if (window._pyforest_update_imports_cell) { window._pyforest_update_imports_cell('import pandas as pd'); }\n",
       "    "
      ],
      "text/plain": [
       "<IPython.core.display.Javascript object>"
      ]
     },
     "metadata": {},
     "output_type": "display_data"
    }
   ],
   "source": [
    "df_score_dist_columns = ['Score', 'Number_of_dice']\n",
    "df_1 = pd.DataFrame(data=[[x, 1] for x in all_roll_values_1], columns=df_score_dist_columns)\n",
    "df_2 = pd.DataFrame(data=[[x, 2] for x in all_roll_values_2], columns=df_score_dist_columns)\n",
    "df_3 = pd.DataFrame(data=[[x, 3] for x in all_roll_values_3], columns=df_score_dist_columns)\n",
    "df_4 = pd.DataFrame(data=[[x, 4] for x in all_roll_values_4], columns=df_score_dist_columns)\n",
    "df_5 = pd.DataFrame(data=[[x, 5] for x in all_roll_values_5], columns=df_score_dist_columns)\n",
    "df_6 = pd.DataFrame(data=[[x, 6] for x in all_roll_values_6], columns=df_score_dist_columns)"
   ]
  },
  {
   "cell_type": "code",
   "execution_count": 19,
   "metadata": {
    "ExecuteTime": {
     "end_time": "2021-12-25T20:53:12.981081Z",
     "start_time": "2021-12-25T20:53:12.969969Z"
    }
   },
   "outputs": [
    {
     "data": {
      "application/javascript": [
       "\n",
       "        if (window._pyforest_update_imports_cell) { window._pyforest_update_imports_cell('import pandas as pd'); }\n",
       "    "
      ],
      "text/plain": [
       "<IPython.core.display.Javascript object>"
      ]
     },
     "metadata": {},
     "output_type": "display_data"
    },
    {
     "data": {
      "application/javascript": [
       "\n",
       "        if (window._pyforest_update_imports_cell) { window._pyforest_update_imports_cell('import pandas as pd'); }\n",
       "    "
      ],
      "text/plain": [
       "<IPython.core.display.Javascript object>"
      ]
     },
     "metadata": {},
     "output_type": "display_data"
    },
    {
     "data": {
      "application/javascript": [
       "\n",
       "        if (window._pyforest_update_imports_cell) { window._pyforest_update_imports_cell('import pandas as pd'); }\n",
       "    "
      ],
      "text/plain": [
       "<IPython.core.display.Javascript object>"
      ]
     },
     "metadata": {},
     "output_type": "display_data"
    }
   ],
   "source": [
    "df_all_dice = pd.concat([df_1, df_2, df_3, df_4, df_5, df_6])\n",
    "df_1_2_3 = pd.concat([df_1, df_2, df_3])\n",
    "df_4_5_6 = pd.concat([df_4, df_5, df_6])"
   ]
  },
  {
   "cell_type": "code",
   "execution_count": 20,
   "metadata": {
    "ExecuteTime": {
     "end_time": "2021-12-25T20:53:13.172891Z",
     "start_time": "2021-12-25T20:53:12.982762Z"
    }
   },
   "outputs": [
    {
     "data": {
      "text/plain": [
       "Text(0, 0.5, 'Score')"
      ]
     },
     "execution_count": 20,
     "metadata": {},
     "output_type": "execute_result"
    },
    {
     "data": {
      "image/png": "[encoded data removed]",
      "text/plain": [
       "<Figure size 432x288 with 1 Axes>"
      ]
     },
     "metadata": {
      "needs_background": "light"
     },
     "output_type": "display_data"
    }
   ],
   "source": [
    "ax1 = sns.violinplot(x='Number_of_dice', y='Score', data=df_1_2_3, cut=0, inner='box', \n",
    "               bw=0.25, scale='width')\n",
    "fig = ax1.get_figure()\n",
    "ax1.set_title(\"Score Distribution for 1, 2, 3 Dice\", fontsize=16, fontweight='bold')\n",
    "ax1.set_xlabel(\"Number of Dice\", fontsize=14)\n",
    "ax1.set_ylabel(\"Score\", fontsize=14)\n",
    "# fig.savefig('images/Score_distribution_1_2_3.png', bbox_inches='tight')"
   ]
  },
  {
   "cell_type": "code",
   "execution_count": 21,
   "metadata": {
    "ExecuteTime": {
     "end_time": "2021-12-25T20:53:13.444013Z",
     "start_time": "2021-12-25T20:53:13.174590Z"
    }
   },
   "outputs": [
    {
     "data": {
      "text/plain": [
       "Text(0, 0.5, 'Score')"
      ]
     },
     "execution_count": 21,
     "metadata": {},
     "output_type": "execute_result"
    },
    {
     "data": {
      "image/png": "[encoded data removed]",
      "text/plain": [
       "<Figure size 432x288 with 1 Axes>"
      ]
     },
     "metadata": {
      "needs_background": "light"
     },
     "output_type": "display_data"
    }
   ],
   "source": [
    "ax2 = sns.violinplot(x='Number_of_dice', y='Score', data=df_4_5_6, cut=0, inner='box', linewidth=2, \n",
    "               bw=0.25, scale='width')\n",
    "fig1 = ax2.get_figure()\n",
    "ax2.set_title(\"Score Distribution for 4, 5, 6 Dice\", fontsize=16, fontweight='bold')\n",
    "ax2.set_xlabel(\"Number of Dice\", fontsize=14)\n",
    "ax2.set_ylabel(\"Score\", fontsize=14)\n",
    "# fig1.savefig('images/Score_distribution_4_5_6.png', bbox_inches='tight')"
   ]
  },
  {
   "cell_type": "markdown",
   "metadata": {},
   "source": [
    "# Calculate odds of (not) farking"
   ]
  },
  {
   "cell_type": "code",
   "execution_count": 22,
   "metadata": {
    "ExecuteTime": {
     "end_time": "2021-12-25T20:53:13.450750Z",
     "start_time": "2021-12-25T20:53:13.445736Z"
    }
   },
   "outputs": [
    {
     "data": {
      "text/plain": [
       "{'1': 33.3, '2': 55.6, '3': 72.2, '4': 84.3, '5': 92.3, '6': 97.7}"
      ]
     },
     "execution_count": 22,
     "metadata": {},
     "output_type": "execute_result"
    }
   ],
   "source": [
    "odds_of_not_farking['1'] = 100 - count_of_scores_1[0][0] #this is odds of getting 0\n",
    "odds_of_not_farking['2'] = 100 - count_of_scores_2[0][0]\n",
    "odds_of_not_farking['3'] = 100 - count_of_scores_3[0][0]\n",
    "odds_of_not_farking['4'] = 100 - count_of_scores_4[0][0]\n",
    "odds_of_not_farking['5'] = 100 - count_of_scores_5[0][0]\n",
    "odds_of_not_farking['6'] = 100 - count_of_scores_6[0][0]\n",
    "odds_of_not_farking"
   ]
  },
  {
   "cell_type": "markdown",
   "metadata": {},
   "source": [
    "## Visualize odds of farking"
   ]
  },
  {
   "cell_type": "code",
   "execution_count": 23,
   "metadata": {
    "ExecuteTime": {
     "end_time": "2021-12-25T20:53:13.458494Z",
     "start_time": "2021-12-25T20:53:13.452350Z"
    }
   },
   "outputs": [
    {
     "data": {
      "application/javascript": [
       "\n",
       "        if (window._pyforest_update_imports_cell) { window._pyforest_update_imports_cell('import pandas as pd'); }\n",
       "    "
      ],
      "text/plain": [
       "<IPython.core.display.Javascript object>"
      ]
     },
     "metadata": {},
     "output_type": "display_data"
    }
   ],
   "source": [
    "odds_of_farking_df = pd.DataFrame(data=[count_of_scores_1[0][0], count_of_scores_2[0][0],\n",
    "                                        count_of_scores_3[0][0], count_of_scores_4[0][0], \n",
    "                                         count_of_scores_5[0][0] , count_of_scores_6[0][0]],\n",
    "                                 index=[x for x in range(1, 7)])"
   ]
  },
  {
   "cell_type": "code",
   "execution_count": 24,
   "metadata": {
    "ExecuteTime": {
     "end_time": "2021-12-25T20:53:13.571640Z",
     "start_time": "2021-12-25T20:53:13.460631Z"
    }
   },
   "outputs": [
    {
     "data": {
      "image/png": "[encoded data removed]",
      "text/plain": [
       "<Figure size 432x288 with 1 Axes>"
      ]
     },
     "metadata": {
      "needs_background": "light"
     },
     "output_type": "display_data"
    }
   ],
   "source": [
    "ax4 = sns.heatmap(odds_of_farking_df, annot=True, robust=True, cmap='cividis', cbar=False,\n",
    "                 xticklabels=False)\n",
    "plt.xlabel('Percent Chance of Farking', fontsize=14)\n",
    "plt.ylabel('Number of Dice in Roll', fontsize=14)\n",
    "plt.title('Percent Chance of Farking (Losing Points and Turn)', fontsize=16, fontweight='bold')\n",
    "fig4 = ax4.get_figure()\n",
    "# fig4.savefig('images/Chance_of_Farking.png')"
   ]
  }
 ],
 "metadata": {
  "kernelspec": {
   "display_name": "Python [conda env:learn-env] *",
   "language": "python",
   "name": "conda-env-learn-env-py"
  },
  "language_info": {
   "codemirror_mode": {
    "name": "ipython",
    "version": 3
   },
   "file_extension": ".py",
   "mimetype": "text/x-python",
   "name": "python",
   "nbconvert_exporter": "python",
   "pygments_lexer": "ipython3",
   "version": "3.6.9"
  },
  "toc": {
   "base_numbering": 1,
   "nav_menu": {},
   "number_sections": true,
   "sideBar": true,
   "skip_h1_title": false,
   "title_cell": "Table of Contents",
   "title_sidebar": "Contents",
   "toc_cell": false,
   "toc_position": {},
   "toc_section_display": true,
   "toc_window_display": true
  },
  "varInspector": {
   "cols": {
    "lenName": 16,
    "lenType": 16,
    "lenVar": 40
   },
   "kernels_config": {
    "python": {
     "delete_cmd_postfix": "",
     "delete_cmd_prefix": "del ",
     "library": "var_list.py",
     "varRefreshCmd": "print(var_dic_list())"
    },
    "r": {
     "delete_cmd_postfix": ") ",
     "delete_cmd_prefix": "rm(",
     "library": "var_list.r",
     "varRefreshCmd": "cat(var_dic_list()) "
    }
   },
   "types_to_exclude": [
    "module",
    "function",
    "builtin_function_or_method",
    "instance",
    "_Feature"
   ],
   "window_display": false
  }
 },
 "nbformat": 4,
 "nbformat_minor": 2
}
